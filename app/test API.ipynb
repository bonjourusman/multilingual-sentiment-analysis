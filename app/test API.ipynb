{
 "cells": [
  {
   "cell_type": "markdown",
   "id": "8b8adae3-a52e-4793-9b8a-e171e63e297f",
   "metadata": {},
   "source": [
    "# Local API"
   ]
  },
  {
   "cell_type": "code",
   "execution_count": 9,
   "id": "23a17da6-95f0-4779-ab99-0af02dfbac35",
   "metadata": {},
   "outputs": [],
   "source": [
    "import requests\n",
    "import json"
   ]
  },
  {
   "cell_type": "code",
   "execution_count": 19,
   "id": "9a06d213-2dff-41a2-b917-6e25b7224c0a",
   "metadata": {},
   "outputs": [],
   "source": [
    "url = 'http://127.0.0.1:8000/analyze'\n",
    "query = \"Feeling great after finetuning an LLM!\""
   ]
  },
  {
   "cell_type": "code",
   "execution_count": 20,
   "id": "4b71f0fb-e932-43e4-9dd4-bb6c2da136ca",
   "metadata": {},
   "outputs": [
    {
     "name": "stdout",
     "output_type": "stream",
     "text": [
      "CPU times: user 3.82 ms, sys: 2.25 ms, total: 6.07 ms\n",
      "Wall time: 536 ms\n"
     ]
    }
   ],
   "source": [
    "params = {'query':query}\n",
    "%time response = requests.get(url, params=params)"
   ]
  },
  {
   "cell_type": "code",
   "execution_count": 21,
   "id": "187b2316-403c-4c97-b6e4-03c902896af5",
   "metadata": {},
   "outputs": [
    {
     "data": {
      "text/plain": [
       "{'query': 'Feeling great after finetuning an LLM!', 'sentiment': 'POSITIVE'}"
      ]
     },
     "execution_count": 21,
     "metadata": {},
     "output_type": "execute_result"
    }
   ],
   "source": [
    "json.loads(response.text)"
   ]
  },
  {
   "cell_type": "code",
   "execution_count": 22,
   "id": "44d91f57-0ba0-4926-a3bf-6a49620e13cf",
   "metadata": {},
   "outputs": [
    {
     "data": {
      "text/plain": [
       "'POSITIVE'"
      ]
     },
     "execution_count": 22,
     "metadata": {},
     "output_type": "execute_result"
    }
   ],
   "source": [
    "json.loads(response.text)['sentiment']"
   ]
  },
  {
   "cell_type": "markdown",
   "id": "52a007aa-b7a5-4561-b28e-5b516bdc0439",
   "metadata": {},
   "source": [
    "# Local Docker API"
   ]
  },
  {
   "cell_type": "code",
   "execution_count": null,
   "id": "c43d5479-6f7f-42fd-9cb5-4a435b8947d4",
   "metadata": {},
   "outputs": [],
   "source": []
  },
  {
   "cell_type": "code",
   "execution_count": null,
   "id": "542d465f-034f-41f9-8c0d-bf37ca6a0cf9",
   "metadata": {},
   "outputs": [],
   "source": []
  },
  {
   "cell_type": "code",
   "execution_count": null,
   "id": "8440c823-429a-4696-82db-a634b3dfe7bc",
   "metadata": {},
   "outputs": [],
   "source": []
  }
 ],
 "metadata": {
  "kernelspec": {
   "display_name": "Python 3 (ipykernel)",
   "language": "python",
   "name": "python3"
  },
  "language_info": {
   "codemirror_mode": {
    "name": "ipython",
    "version": 3
   },
   "file_extension": ".py",
   "mimetype": "text/x-python",
   "name": "python",
   "nbconvert_exporter": "python",
   "pygments_lexer": "ipython3",
   "version": "3.10.16"
  }
 },
 "nbformat": 4,
 "nbformat_minor": 5
}
